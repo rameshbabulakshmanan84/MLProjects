{
  "nbformat": 4,
  "nbformat_minor": 0,
  "metadata": {
    "colab": {
      "name": "Untitled2.ipynb",
      "provenance": [],
      "include_colab_link": true
    },
    "kernelspec": {
      "name": "python3",
      "display_name": "Python 3"
    }
  },
  "cells": [
    {
      "cell_type": "markdown",
      "metadata": {
        "id": "view-in-github",
        "colab_type": "text"
      },
      "source": [
        "<a href=\"https://colab.research.google.com/github/rameshbabulakshmanan84/MLProjects/blob/master/Ex1%20-%20Phishing%20website%20detector%20using%20LR.ipynb\" target=\"_parent\"><img src=\"https://colab.research.google.com/assets/colab-badge.svg\" alt=\"Open In Colab\"/></a>"
      ]
    },
    {
      "cell_type": "code",
      "metadata": {
        "id": "9rvh-i6udlOP",
        "colab_type": "code",
        "colab": {}
      },
      "source": [
        "#CellStrat - Load the phishing website dataset (this dataset has 11000+ data samples). Each sample has 30 website\n",
        "#parameters and then a class label identifying it as a phishing website or not (1 or -1).\n",
        "\n",
        "#The task is to train a Logistic Regression classifier which can detect phishing websites.\n",
        "\n",
        "#Use 70% data for training and 30% for testing.\n",
        "\n",
        "#Train the model using training data and then use it to predict the test data.\n",
        "\n",
        "#Then print the count of misclassified samples in the test data prediction as well as the accuracy score of this prediction.\n",
        "\n",
        "#Then train with only two input parameters. e.g. parameter index 5 (parameter Prefix_Suffix) and 13 (URL_of_Anchor) only out of\n",
        "#30 parameters. Check accuracy on the test data again and compare the accuracy with the previous value, where it was\n",
        "#trained on all the parameters.\n",
        "\n",
        "#Plot the test samples along with the decision boundary when trained with index 5 and index 13 parameters."
      ],
      "execution_count": 0,
      "outputs": []
    },
    {
      "cell_type": "code",
      "metadata": {
        "id": "2-uNDm_xdvkc",
        "colab_type": "code",
        "colab": {
          "base_uri": "https://localhost:8080/",
          "height": 107
        },
        "outputId": "561d8b9e-2fc7-44fd-948a-3cef883ddeb6"
      },
      "source": [
        "#import the libraries\n",
        "import pandas as pd\n",
        "import numpy as np\n",
        "from sklearn import datasets\n",
        "import numpy as np\n",
        "from sklearn.model_selection import train_test_split\n",
        "from sklearn.preprocessing import StandardScaler\n",
        "from sklearn.linear_model import LogisticRegression\n",
        "from sklearn.metrics import accuracy_score\n",
        "from sklearn.metrics import confusion_matrix\n",
        "from matplotlib.colors import ListedColormap\n",
        "import matplotlib.pyplot as plt\n",
        "#load the data file\n",
        "df=pd.read_csv('https://raw.githubusercontent.com/rameshbabulakshmanan84/MLProjects/master/phishing.txt',sep=',')\n",
        "\n",
        "#data analysis \n",
        "#df.shape\n",
        "\n",
        "#check for nan values\n",
        "#print(df.isnull().sum())\n",
        "\n",
        "#print the head\n",
        "df.head()\n",
        "\n",
        "#check the tail\n",
        "df.tail()\n",
        "\n",
        "#assign the values to x and y\n",
        "X=df.iloc[:,:-1]\n",
        "y=df.iloc[:,-1]\n",
        "\n",
        "#check the unique classes for target variable\n",
        "#print(np.unique(y))\n",
        "\n",
        "#check the class balance/imbalance\n",
        "y.value_counts(normalize=True)\n",
        "\n",
        "#split the data into test/train\n",
        "X_train,X_test,y_train,y_test=train_test_split(X,y,test_size=0.3,random_state=0)\n",
        "\n",
        "#fit the model\n",
        "LR=LogisticRegression(C=100)\n",
        "LR.fit(X_train,y_train)\n",
        "\n",
        "#predict the output \n",
        "y_pred=LR.predict(X_test)\n",
        "\n",
        "#compute the confusion matrix\n",
        "confusion=confusion_matrix(y_pred,y_test)\n",
        "TP=confusion[0,0]\n",
        "TN=confusion[1,1]\n",
        "FP=confusion[1,0]\n",
        "FN=confusion[0,1]\n",
        "Misclassifiedcount = FP+FN\n",
        "print(\"Misclassficaton error\",Misclassifiedcount)\n",
        "\n",
        "#compute accuracy score\n",
        "print(\"Accuracy score for LR\",accuracy_score(y_pred,y_test))\n",
        "\n"
      ],
      "execution_count": 27,
      "outputs": [
        {
          "output_type": "stream",
          "text": [
            "Misclassficaton error 246\n",
            "Accuracy score for LR 0.9258365993367501\n"
          ],
          "name": "stdout"
        },
        {
          "output_type": "stream",
          "text": [
            "/usr/local/lib/python3.6/dist-packages/sklearn/linear_model/logistic.py:432: FutureWarning: Default solver will be changed to 'lbfgs' in 0.22. Specify a solver to silence this warning.\n",
            "  FutureWarning)\n"
          ],
          "name": "stderr"
        }
      ]
    }
  ]
}