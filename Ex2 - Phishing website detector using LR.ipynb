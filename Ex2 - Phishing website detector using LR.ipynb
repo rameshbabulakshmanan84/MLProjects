{
  "nbformat": 4,
  "nbformat_minor": 0,
  "metadata": {
    "colab": {
      "name": "Untitled2.ipynb",
      "provenance": [],
      "include_colab_link": true
    },
    "kernelspec": {
      "name": "python3",
      "display_name": "Python 3"
    }
  },
  "cells": [
    {
      "cell_type": "markdown",
      "metadata": {
        "id": "view-in-github",
        "colab_type": "text"
      },
      "source": [
        "<a href=\"https://colab.research.google.com/github/rameshbabulakshmanan84/MLProjects/blob/master/Ex2%20-%20Phishing%20website%20detector%20using%20LR.ipynb\" target=\"_parent\"><img src=\"https://colab.research.google.com/assets/colab-badge.svg\" alt=\"Open In Colab\"/></a>"
      ]
    },
    {
      "cell_type": "code",
      "metadata": {
        "id": "9rvh-i6udlOP",
        "colab_type": "code",
        "colab": {}
      },
      "source": [
        "#CellStrat - Load the phishing website dataset (this dataset has 11000+ data samples). Each sample has 30 website\n",
        "#parameters and then a class label identifying it as a phishing website or not (1 or -1).\n",
        "\n",
        "#The task is to train a Logistic Regression classifier which can detect phishing websites.\n",
        "\n",
        "#Use 70% data for training and 30% for testing.\n",
        "\n",
        "#Train the model using training data and then use it to predict the test data.\n",
        "\n",
        "#Then print the count of misclassified samples in the test data prediction as well as the accuracy score of this prediction.\n",
        "\n",
        "#Then train with only two input parameters. e.g. parameter index 5 (parameter Prefix_Suffix) and 13 (URL_of_Anchor) only out of\n",
        "#30 parameters. Check accuracy on the test data again and compare the accuracy with the previous value, where it was\n",
        "#trained on all the parameters.\n",
        "\n",
        "#Plot the test samples along with the decision boundary when trained with index 5 and index 13 parameters."
      ],
      "execution_count": 0,
      "outputs": []
    },
    {
      "cell_type": "code",
      "metadata": {
        "id": "2-uNDm_xdvkc",
        "colab_type": "code",
        "outputId": "88ca4c94-48d7-4982-b498-fa6aca2e71e8",
        "colab": {
          "base_uri": "https://localhost:8080/",
          "height": 438
        }
      },
      "source": [
        "#import the libraries\n",
        "import pandas as pd\n",
        "import numpy as np\n",
        "from sklearn import datasets\n",
        "import numpy as np\n",
        "from sklearn.model_selection import train_test_split\n",
        "from sklearn.preprocessing import StandardScaler\n",
        "from sklearn.linear_model import LogisticRegression\n",
        "from sklearn.metrics import accuracy_score\n",
        "from sklearn.metrics import confusion_matrix\n",
        "from matplotlib.colors import ListedColormap\n",
        "import matplotlib.pyplot as plt\n",
        "#load the data file\n",
        "df=pd.read_csv('https://raw.githubusercontent.com/rameshbabulakshmanan84/MLProjects/master/phishing.txt',sep=',')\n",
        "\n",
        "#data analysis \n",
        "#df.shape\n",
        "\n",
        "#check for nan values\n",
        "#print(df.isnull().sum())\n",
        "\n",
        "#print the head\n",
        "df.head()\n",
        "\n",
        "#check the tail\n",
        "df.tail()\n",
        "\n",
        "#assign the values to x and y\n",
        "X=df.iloc[:,:-1]\n",
        "y=df.iloc[:,-1]\n",
        "\n",
        "#check the unique classes for target variable\n",
        "#print(np.unique(y))\n",
        "\n",
        "#check the class balance/imbalance\n",
        "y.value_counts(normalize=True)\n",
        "\n",
        "#split the data into test/train\n",
        "X_train,X_test,y_train,y_test=train_test_split(X,y,test_size=0.3,random_state=0)\n",
        "\n",
        "#fit the model\n",
        "LR=LogisticRegression(C=100)\n",
        "LR.fit(X_train,y_train)\n",
        "\n",
        "#predict the output \n",
        "y_pred=LR.predict(X_test)\n",
        "\n",
        "#compute the confusion matrix\n",
        "confusion=confusion_matrix(y_pred,y_test)\n",
        "TP=confusion[0,0]\n",
        "TN=confusion[1,1]\n",
        "FP=confusion[1,0]\n",
        "FN=confusion[0,1]\n",
        "Misclassifiedcount = FP+FN\n",
        "print(\"Misclassficaton error\",Misclassifiedcount)\n",
        "\n",
        "#compute accuracy score\n",
        "print(\"Accuracy score for LR\",accuracy_score(y_pred,y_test))\n",
        "\n",
        "#assign only two paramer features\n",
        "X1=df.iloc[:,[0,13]]\n",
        "#print(X)\n",
        "y1=df.iloc[:,-1]\n",
        "\n",
        "#Train/Test split\n",
        "X1_train,X1_test,y1_train,y1_test=train_test_split(X1,y1,test_size=0.3,random_state=0)\n",
        "\n",
        "#print(X1_test.iloc[:,0])\n",
        "#fit the model\n",
        "LR1=LogisticRegression(C=100)\n",
        "LR1.fit(X1_train,y1_train)\n",
        "\n",
        "#predict the output\n",
        "y1_pred=LR1.predict(X1_test)\n",
        "\n",
        "print(\"Accuracy score for model with 2 params nly\",accuracy_score(y1_pred,y1_test))\n",
        "\n",
        "#Plot the decision boundry\n",
        "plt.scatter(X1_test.iloc[:,0],X1_test.iloc[:,1],c=(y1_test==1),s=50,marker='*',cmap='RdBu',edgecolor=\"white\",linewidths=1)\n",
        "plt.xlabel('Parameter 1')\n",
        "plt.ylabel('Parameter 2')\n",
        "plt.title(\"Plot to show Logistic regression decision bundary\")\n",
        "plt.show()"
      ],
      "execution_count": 10,
      "outputs": [
        {
          "output_type": "stream",
          "text": [
            "/usr/local/lib/python3.6/dist-packages/sklearn/linear_model/logistic.py:432: FutureWarning: Default solver will be changed to 'lbfgs' in 0.22. Specify a solver to silence this warning.\n",
            "  FutureWarning)\n",
            "/usr/local/lib/python3.6/dist-packages/sklearn/linear_model/logistic.py:432: FutureWarning: Default solver will be changed to 'lbfgs' in 0.22. Specify a solver to silence this warning.\n",
            "  FutureWarning)\n"
          ],
          "name": "stderr"
        },
        {
          "output_type": "stream",
          "text": [
            "Misclassficaton error 246\n",
            "Accuracy score for LR 0.9258365993367501\n",
            "Accuracy score for model with 2 params nly 0.8501658124811576\n"
          ],
          "name": "stdout"
        },
        {
          "output_type": "display_data",
          "data": {
            "image/png": "[encoded data removed]",
            "text/plain": [
              "<Figure size 432x288 with 1 Axes>"
            ]
          },
          "metadata": {
            "tags": []
          }
        }
      ]
    }
  ]
}